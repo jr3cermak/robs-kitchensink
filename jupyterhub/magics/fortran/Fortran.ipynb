{
 "cells": [
  {
   "cell_type": "code",
   "execution_count": 1,
   "metadata": {
    "collapsed": false
   },
   "outputs": [
    {
     "data": {
      "application/javascript": [
       "$.getScript(\"https://raw.github.com/marijnh/CodeMirror/master/mode/fortran/fortran.js\", function () {\n",
       "IPython.config.cell_magic_highlight['magic_fortran'] = {'reg':[/^%%fortran/]};});\n"
      ]
     },
     "metadata": {},
     "output_type": "display_data"
    }
   ],
   "source": [
    "%load_ext fortranmagic\n"
   ]
  },
  {
   "cell_type": "code",
   "execution_count": 2,
   "metadata": {
    "collapsed": false
   },
   "outputs": [
    {
     "name": "stdout",
     "output_type": "stream",
     "text": [
      "Running...\n",
      "   f2py -m _fortran_magic_b16e5fc197d74083b6ab2e1b71fd93b8 -c /home/cermak/.cache/ipython/fortran/_fortran_magic_b16e5fc197d74083b6ab2e1b71fd93b8.f90\n",
      "running build\n",
      "running config_cc\n",
      "unifing config_cc, config, build_clib, build_ext, build commands --compiler options\n",
      "running config_fc\n",
      "unifing config_fc, config, build_clib, build_ext, build commands --fcompiler options\n",
      "running build_src\n",
      "build_src\n",
      "building extension \"_fortran_magic_b16e5fc197d74083b6ab2e1b71fd93b8\" sources\n",
      "f2py options: []\n",
      "f2py:> /tmp/tmpfr9wvr5h/src.linux-x86_64-3.4/_fortran_magic_b16e5fc197d74083b6ab2e1b71fd93b8module.c\n",
      "creating /tmp/tmpfr9wvr5h/src.linux-x86_64-3.4\n",
      "Reading fortran codes...\n",
      "\tReading file '/home/cermak/.cache/ipython/fortran/_fortran_magic_b16e5fc197d74083b6ab2e1b71fd93b8.f90' (format:free)\n",
      "Post-processing...\n",
      "\tBlock: _fortran_magic_b16e5fc197d74083b6ab2e1b71fd93b8\n",
      "\t\t\tBlock: f1\n",
      "Post-processing (stage 2)...\n",
      "Building modules...\n",
      "\tBuilding module \"_fortran_magic_b16e5fc197d74083b6ab2e1b71fd93b8\"...\n",
      "\t\tConstructing wrapper function \"f1\"...\n",
      "\t\t  z = f1(x,y)\n",
      "\tWrote C/API module \"_fortran_magic_b16e5fc197d74083b6ab2e1b71fd93b8\" to file \"/tmp/tmpfr9wvr5h/src.linux-x86_64-3.4/_fortran_magic_b16e5fc197d74083b6ab2e1b71fd93b8module.c\"\n",
      "  adding '/tmp/tmpfr9wvr5h/src.linux-x86_64-3.4/fortranobject.c' to sources.\n",
      "  adding '/tmp/tmpfr9wvr5h/src.linux-x86_64-3.4' to include_dirs.\n",
      "copying /usr/lib64/python3.4/site-packages/numpy/f2py/src/fortranobject.c -> /tmp/tmpfr9wvr5h/src.linux-x86_64-3.4\n",
      "copying /usr/lib64/python3.4/site-packages/numpy/f2py/src/fortranobject.h -> /tmp/tmpfr9wvr5h/src.linux-x86_64-3.4\n",
      "build_src: building npy-pkg config files\n",
      "running build_ext\n",
      "customize UnixCCompiler\n",
      "customize UnixCCompiler using build_ext\n",
      "customize Gnu95FCompiler\n",
      "Found executable /usr/bin/gfortran\n",
      "customize Gnu95FCompiler\n",
      "customize Gnu95FCompiler using build_ext\n",
      "building '_fortran_magic_b16e5fc197d74083b6ab2e1b71fd93b8' extension\n",
      "compiling C sources\n",
      "C compiler: gcc -pthread -Wno-unused-result -DDYNAMIC_ANNOTATIONS_ENABLED=1 -DNDEBUG -O2 -g -pipe -Wall -Werror=format-security -Wp,-D_FORTIFY_SOURCE=2 -fexceptions -fstack-protector-strong --param=ssp-buffer-size=4 -grecord-gcc-switches -m64 -mtune=generic -D_GNU_SOURCE -fPIC -fwrapv -fPIC\n",
      "\n",
      "creating /tmp/tmpfr9wvr5h/tmp\n",
      "creating /tmp/tmpfr9wvr5h/tmp/tmpfr9wvr5h\n",
      "creating /tmp/tmpfr9wvr5h/tmp/tmpfr9wvr5h/src.linux-x86_64-3.4\n",
      "compile options: '-I/tmp/tmpfr9wvr5h/src.linux-x86_64-3.4 -I/usr/lib64/python3.4/site-packages/numpy/core/include -I/usr/include/python3.4m -c'\n",
      "gcc: /tmp/tmpfr9wvr5h/src.linux-x86_64-3.4/fortranobject.c\n",
      "In file included from /usr/lib64/python3.4/site-packages/numpy/core/include/numpy/ndarraytypes.h:1761:0,\n",
      "                 from /usr/lib64/python3.4/site-packages/numpy/core/include/numpy/ndarrayobject.h:17,\n",
      "                 from /usr/lib64/python3.4/site-packages/numpy/core/include/numpy/arrayobject.h:4,\n",
      "                 from /tmp/tmpfr9wvr5h/src.linux-x86_64-3.4/fortranobject.h:13,\n",
      "                 from /tmp/tmpfr9wvr5h/src.linux-x86_64-3.4/fortranobject.c:2:\n",
      "/usr/lib64/python3.4/site-packages/numpy/core/include/numpy/npy_1_7_deprecated_api.h:15:2: warning: #warning \"Using deprecated NumPy API, disable it by \" \"#defining NPY_NO_DEPRECATED_API NPY_1_7_API_VERSION\" [-Wcpp]\n",
      " #warning \"Using deprecated NumPy API, disable it by \" \\\n",
      "  ^\n",
      "gcc: /tmp/tmpfr9wvr5h/src.linux-x86_64-3.4/_fortran_magic_b16e5fc197d74083b6ab2e1b71fd93b8module.c\n",
      "In file included from /usr/lib64/python3.4/site-packages/numpy/core/include/numpy/ndarraytypes.h:1761:0,\n",
      "                 from /usr/lib64/python3.4/site-packages/numpy/core/include/numpy/ndarrayobject.h:17,\n",
      "                 from /usr/lib64/python3.4/site-packages/numpy/core/include/numpy/arrayobject.h:4,\n",
      "                 from /tmp/tmpfr9wvr5h/src.linux-x86_64-3.4/fortranobject.h:13,\n",
      "                 from /tmp/tmpfr9wvr5h/src.linux-x86_64-3.4/_fortran_magic_b16e5fc197d74083b6ab2e1b71fd93b8module.c:17:\n",
      "/usr/lib64/python3.4/site-packages/numpy/core/include/numpy/npy_1_7_deprecated_api.h:15:2: warning: #warning \"Using deprecated NumPy API, disable it by \" \"#defining NPY_NO_DEPRECATED_API NPY_1_7_API_VERSION\" [-Wcpp]\n",
      " #warning \"Using deprecated NumPy API, disable it by \" \\\n",
      "  ^\n",
      "compiling Fortran sources\n",
      "Fortran f77 compiler: /usr/bin/gfortran -Wall -ffixed-form -fno-second-underscore -fPIC -O3 -funroll-loops\n",
      "Fortran f90 compiler: /usr/bin/gfortran -Wall -fno-second-underscore -fPIC -O3 -funroll-loops\n",
      "Fortran fix compiler: /usr/bin/gfortran -Wall -ffixed-form -fno-second-underscore -Wall -fno-second-underscore -fPIC -O3 -funroll-loops\n",
      "creating /tmp/tmpfr9wvr5h/home\n",
      "creating /tmp/tmpfr9wvr5h/home/cermak\n",
      "creating /tmp/tmpfr9wvr5h/home/cermak/.cache\n",
      "creating /tmp/tmpfr9wvr5h/home/cermak/.cache/ipython\n",
      "creating /tmp/tmpfr9wvr5h/home/cermak/.cache/ipython/fortran\n",
      "compile options: '-I/tmp/tmpfr9wvr5h/src.linux-x86_64-3.4 -I/usr/lib64/python3.4/site-packages/numpy/core/include -I/usr/include/python3.4m -c'\n",
      "gfortran:f90: /home/cermak/.cache/ipython/fortran/_fortran_magic_b16e5fc197d74083b6ab2e1b71fd93b8.f90\n",
      "/usr/bin/gfortran -Wall -Wall -shared /tmp/tmpfr9wvr5h/tmp/tmpfr9wvr5h/src.linux-x86_64-3.4/_fortran_magic_b16e5fc197d74083b6ab2e1b71fd93b8module.o /tmp/tmpfr9wvr5h/tmp/tmpfr9wvr5h/src.linux-x86_64-3.4/fortranobject.o /tmp/tmpfr9wvr5h/home/cermak/.cache/ipython/fortran/_fortran_magic_b16e5fc197d74083b6ab2e1b71fd93b8.o -L/usr/lib64 -lpython3.4m -lgfortran -o ./_fortran_magic_b16e5fc197d74083b6ab2e1b71fd93b8.cpython-34m.so\n",
      "Removing build directory /tmp/tmpfr9wvr5h\n",
      "\n",
      "Ok. The following fortran objects are ready to use: f1\n"
     ]
    }
   ],
   "source": [
    "%%fortran -vvv\n",
    "\n",
    "subroutine f1(x, y, z)\n",
    "    real, intent(in) :: x,y\n",
    "    real, intent(out) :: z\n",
    "\n",
    "    z = sin(x+y)\n",
    "\n",
    "end subroutine f1"
   ]
  },
  {
   "cell_type": "code",
   "execution_count": 3,
   "metadata": {
    "collapsed": false
   },
   "outputs": [
    {
     "data": {
      "text/plain": [
       "9.26574066397734e-05"
      ]
     },
     "execution_count": 3,
     "metadata": {},
     "output_type": "execute_result"
    }
   ],
   "source": [
    "f1(1.0, 2.1415)"
   ]
  },
  {
   "cell_type": "code",
   "execution_count": 4,
   "metadata": {
    "collapsed": false
   },
   "outputs": [
    {
     "name": "stdout",
     "output_type": "stream",
     "text": [
      "z = f1(x,y)\n",
      "\n",
      "Wrapper for ``f1``.\n",
      "\n",
      "Parameters\n",
      "----------\n",
      "x : input float\n",
      "y : input float\n",
      "\n",
      "Returns\n",
      "-------\n",
      "z : float\n",
      "\n"
     ]
    }
   ],
   "source": [
    "print(f1.__doc__)"
   ]
  },
  {
   "cell_type": "code",
   "execution_count": 5,
   "metadata": {
    "collapsed": false
   },
   "outputs": [
    {
     "name": "stdout",
     "output_type": "stream",
     "text": [
      "Running...\n",
      "   f2py --link-lapack -m _fortran_magic_5f638b132b1052765ef7ba6ae1740e80 -c /home/cermak/.cache/ipython/fortran/_fortran_magic_5f638b132b1052765ef7ba6ae1740e80.f90\n",
      "running build\n",
      "running config_cc\n",
      "unifing config_cc, config, build_clib, build_ext, build commands --compiler options\n",
      "running config_fc\n",
      "unifing config_fc, config, build_clib, build_ext, build commands --fcompiler options\n",
      "running build_src\n",
      "build_src\n",
      "building extension \"_fortran_magic_5f638b132b1052765ef7ba6ae1740e80\" sources\n",
      "f2py options: []\n",
      "f2py:> /tmp/tmp9n6g0qqa/src.linux-x86_64-3.4/_fortran_magic_5f638b132b1052765ef7ba6ae1740e80module.c\n",
      "creating /tmp/tmp9n6g0qqa/src.linux-x86_64-3.4\n",
      "Reading fortran codes...\n",
      "\tReading file '/home/cermak/.cache/ipython/fortran/_fortran_magic_5f638b132b1052765ef7ba6ae1740e80.f90' (format:free)\n",
      "Post-processing...\n",
      "\tBlock: _fortran_magic_5f638b132b1052765ef7ba6ae1740e80\n",
      "\t\t\tBlock: solve\n",
      "Post-processing (stage 2)...\n",
      "Building modules...\n",
      "\tBuilding module \"_fortran_magic_5f638b132b1052765ef7ba6ae1740e80\"...\n",
      "\t\tConstructing wrapper function \"solve\"...\n",
      "\t\t  x = solve(a,b,[n])\n",
      "\tWrote C/API module \"_fortran_magic_5f638b132b1052765ef7ba6ae1740e80\" to file \"/tmp/tmp9n6g0qqa/src.linux-x86_64-3.4/_fortran_magic_5f638b132b1052765ef7ba6ae1740e80module.c\"\n",
      "  adding '/tmp/tmp9n6g0qqa/src.linux-x86_64-3.4/fortranobject.c' to sources.\n",
      "  adding '/tmp/tmp9n6g0qqa/src.linux-x86_64-3.4' to include_dirs.\n",
      "copying /usr/lib64/python3.4/site-packages/numpy/f2py/src/fortranobject.c -> /tmp/tmp9n6g0qqa/src.linux-x86_64-3.4\n",
      "copying /usr/lib64/python3.4/site-packages/numpy/f2py/src/fortranobject.h -> /tmp/tmp9n6g0qqa/src.linux-x86_64-3.4\n",
      "build_src: building npy-pkg config files\n",
      "running build_ext\n",
      "customize UnixCCompiler\n",
      "customize UnixCCompiler using build_ext\n",
      "customize Gnu95FCompiler\n",
      "Found executable /usr/bin/gfortran\n",
      "customize Gnu95FCompiler\n",
      "customize Gnu95FCompiler using build_ext\n",
      "building '_fortran_magic_5f638b132b1052765ef7ba6ae1740e80' extension\n",
      "compiling C sources\n",
      "C compiler: gcc -pthread -Wno-unused-result -DDYNAMIC_ANNOTATIONS_ENABLED=1 -DNDEBUG -O2 -g -pipe -Wall -Werror=format-security -Wp,-D_FORTIFY_SOURCE=2 -fexceptions -fstack-protector-strong --param=ssp-buffer-size=4 -grecord-gcc-switches -m64 -mtune=generic -D_GNU_SOURCE -fPIC -fwrapv -fPIC\n",
      "\n",
      "creating /tmp/tmp9n6g0qqa/tmp\n",
      "creating /tmp/tmp9n6g0qqa/tmp/tmp9n6g0qqa\n",
      "creating /tmp/tmp9n6g0qqa/tmp/tmp9n6g0qqa/src.linux-x86_64-3.4\n",
      "compile options: '-I/tmp/tmp9n6g0qqa/src.linux-x86_64-3.4 -I/usr/lib64/python3.4/site-packages/numpy/core/include -I/usr/include/python3.4m -c'\n",
      "gcc: /tmp/tmp9n6g0qqa/src.linux-x86_64-3.4/fortranobject.c\n",
      "In file included from /usr/lib64/python3.4/site-packages/numpy/core/include/numpy/ndarraytypes.h:1761:0,\n",
      "                 from /usr/lib64/python3.4/site-packages/numpy/core/include/numpy/ndarrayobject.h:17,\n",
      "                 from /usr/lib64/python3.4/site-packages/numpy/core/include/numpy/arrayobject.h:4,\n",
      "                 from /tmp/tmp9n6g0qqa/src.linux-x86_64-3.4/fortranobject.h:13,\n",
      "                 from /tmp/tmp9n6g0qqa/src.linux-x86_64-3.4/fortranobject.c:2:\n",
      "/usr/lib64/python3.4/site-packages/numpy/core/include/numpy/npy_1_7_deprecated_api.h:15:2: warning: #warning \"Using deprecated NumPy API, disable it by \" \"#defining NPY_NO_DEPRECATED_API NPY_1_7_API_VERSION\" [-Wcpp]\n",
      " #warning \"Using deprecated NumPy API, disable it by \" \\\n",
      "  ^\n",
      "gcc: /tmp/tmp9n6g0qqa/src.linux-x86_64-3.4/_fortran_magic_5f638b132b1052765ef7ba6ae1740e80module.c\n",
      "In file included from /usr/lib64/python3.4/site-packages/numpy/core/include/numpy/ndarraytypes.h:1761:0,\n",
      "                 from /usr/lib64/python3.4/site-packages/numpy/core/include/numpy/ndarrayobject.h:17,\n",
      "                 from /usr/lib64/python3.4/site-packages/numpy/core/include/numpy/arrayobject.h:4,\n",
      "                 from /tmp/tmp9n6g0qqa/src.linux-x86_64-3.4/fortranobject.h:13,\n",
      "                 from /tmp/tmp9n6g0qqa/src.linux-x86_64-3.4/_fortran_magic_5f638b132b1052765ef7ba6ae1740e80module.c:18:\n",
      "/usr/lib64/python3.4/site-packages/numpy/core/include/numpy/npy_1_7_deprecated_api.h:15:2: warning: #warning \"Using deprecated NumPy API, disable it by \" \"#defining NPY_NO_DEPRECATED_API NPY_1_7_API_VERSION\" [-Wcpp]\n",
      " #warning \"Using deprecated NumPy API, disable it by \" \\\n",
      "  ^\n",
      "/tmp/tmp9n6g0qqa/src.linux-x86_64-3.4/_fortran_magic_5f638b132b1052765ef7ba6ae1740e80module.c:111:12: warning: ‘f2py_size’ defined but not used [-Wunused-function]\n",
      " static int f2py_size(PyArrayObject* var, ...)\n",
      "            ^\n",
      "compiling Fortran sources\n",
      "Fortran f77 compiler: /usr/bin/gfortran -Wall -ffixed-form -fno-second-underscore -fPIC -O3 -funroll-loops\n",
      "Fortran f90 compiler: /usr/bin/gfortran -Wall -fno-second-underscore -fPIC -O3 -funroll-loops\n",
      "Fortran fix compiler: /usr/bin/gfortran -Wall -ffixed-form -fno-second-underscore -Wall -fno-second-underscore -fPIC -O3 -funroll-loops\n",
      "creating /tmp/tmp9n6g0qqa/home\n",
      "creating /tmp/tmp9n6g0qqa/home/cermak\n",
      "creating /tmp/tmp9n6g0qqa/home/cermak/.cache\n",
      "creating /tmp/tmp9n6g0qqa/home/cermak/.cache/ipython\n",
      "creating /tmp/tmp9n6g0qqa/home/cermak/.cache/ipython/fortran\n",
      "compile options: '-I/tmp/tmp9n6g0qqa/src.linux-x86_64-3.4 -I/usr/lib64/python3.4/site-packages/numpy/core/include -I/usr/include/python3.4m -c'\n",
      "gfortran:f90: /home/cermak/.cache/ipython/fortran/_fortran_magic_5f638b132b1052765ef7ba6ae1740e80.f90\n",
      "/home/cermak/.cache/ipython/fortran/_fortran_magic_5f638b132b1052765ef7ba6ae1740e80.f90:10.16:\n",
      "\n",
      "    integer :: i, j, pivot(n), ok\n",
      "                1\n",
      "Warning: Unused variable 'i' declared at (1)\n",
      "/home/cermak/.cache/ipython/fortran/_fortran_magic_5f638b132b1052765ef7ba6ae1740e80.f90:10.19:\n",
      "\n",
      "    integer :: i, j, pivot(n), ok\n",
      "                   1\n",
      "Warning: Unused variable 'j' declared at (1)\n",
      "/usr/bin/gfortran -Wall -Wall -shared /tmp/tmp9n6g0qqa/tmp/tmp9n6g0qqa/src.linux-x86_64-3.4/_fortran_magic_5f638b132b1052765ef7ba6ae1740e80module.o /tmp/tmp9n6g0qqa/tmp/tmp9n6g0qqa/src.linux-x86_64-3.4/fortranobject.o /tmp/tmp9n6g0qqa/home/cermak/.cache/ipython/fortran/_fortran_magic_5f638b132b1052765ef7ba6ae1740e80.o -L/usr/lib64 -L/usr/lib64 -llapack -lpython3.4m -lgfortran -o ./_fortran_magic_5f638b132b1052765ef7ba6ae1740e80.cpython-34m.so\n",
      "Removing build directory /tmp/tmp9n6g0qqa\n",
      "\n",
      "Ok. The following fortran objects are ready to use: solve\n"
     ]
    }
   ],
   "source": [
    "%%fortran --link lapack -vvv\n",
    "\n",
    "subroutine solve(A, b, x, n)\n",
    "    ! solve the matrix equation A*x=b using LAPACK\n",
    "    implicit none\n",
    "\n",
    "    real*8, dimension(n,n), intent(in) :: A\n",
    "    real*8, dimension(n), intent(in) :: b\n",
    "    real*8, dimension(n), intent(out) :: x\n",
    "\n",
    "    integer :: i, j, pivot(n), ok\n",
    "\n",
    "    integer, intent(in) :: n\n",
    "    x = b\n",
    "\n",
    "    ! find the solution using the LAPACK routine SGESV\n",
    "    call DGESV(n, 1, A, n, pivot, x, n, ok)\n",
    "    \n",
    "end subroutine"
   ]
  },
  {
   "cell_type": "code",
   "execution_count": 6,
   "metadata": {
    "collapsed": true
   },
   "outputs": [],
   "source": [
    "import numpy as np\n",
    "A = np.array([[1, 2.5], [-3, 4]])\n",
    "b = np.array([1, 2.5])"
   ]
  },
  {
   "cell_type": "code",
   "execution_count": 7,
   "metadata": {
    "collapsed": false
   },
   "outputs": [
    {
     "data": {
      "text/plain": [
       "array([-0.19565217,  0.47826087])"
      ]
     },
     "execution_count": 7,
     "metadata": {},
     "output_type": "execute_result"
    }
   ],
   "source": [
    "np.linalg.solve(A, b)"
   ]
  },
  {
   "cell_type": "code",
   "execution_count": 8,
   "metadata": {
    "collapsed": false
   },
   "outputs": [
    {
     "data": {
      "text/plain": [
       "array([-0.19565217,  0.47826087])"
      ]
     },
     "execution_count": 8,
     "metadata": {},
     "output_type": "execute_result"
    }
   ],
   "source": [
    "solve(A,b)"
   ]
  },
  {
   "cell_type": "code",
   "execution_count": 9,
   "metadata": {
    "collapsed": false
   },
   "outputs": [
    {
     "name": "stdout",
     "output_type": "stream",
     "text": [
      "Running...\n",
      "   f2py -m _fortran_magic_36678294345c8775826118e847782062 -c /home/cermak/.cache/ipython/fortran/_fortran_magic_36678294345c8775826118e847782062.f90\n",
      "\n",
      "Ok. The following fortran objects are ready to use: hi\n"
     ]
    }
   ],
   "source": [
    "%%fortran -vv\n",
    "\n",
    "module hi\n",
    "  integer :: five = 5\n",
    "end module"
   ]
  },
  {
   "cell_type": "code",
   "execution_count": 10,
   "metadata": {
    "collapsed": false
   },
   "outputs": [
    {
     "name": "stdout",
     "output_type": "stream",
     "text": [
      "5\n"
     ]
    }
   ],
   "source": [
    "print(hi.five)"
   ]
  },
  {
   "cell_type": "code",
   "execution_count": 11,
   "metadata": {
    "collapsed": false
   },
   "outputs": [
    {
     "data": {
      "text/plain": [
       "array(5, dtype=int32)"
      ]
     },
     "execution_count": 11,
     "metadata": {},
     "output_type": "execute_result"
    }
   ],
   "source": [
    "hi.five"
   ]
  },
  {
   "cell_type": "code",
   "execution_count": 12,
   "metadata": {
    "collapsed": false
   },
   "outputs": [
    {
     "name": "stdout",
     "output_type": "stream",
     "text": [
      "hello from Python: 2.7.8 (default, Nov 10 2014, 08:19:18) \n",
      "[GCC 4.9.2 20141101 (Red Hat 4.9.2-1)]\n"
     ]
    }
   ],
   "source": [
    "%%python\n",
    "# Call python 2.x even though the kernel is python3\n",
    "# NOTE: Comments cannot be before % or %% macro\n",
    "import sys\n",
    "print('hello from Python: %s' % sys.version)"
   ]
  },
  {
   "cell_type": "code",
   "execution_count": 13,
   "metadata": {
    "collapsed": false
   },
   "outputs": [
    {
     "name": "stdout",
     "output_type": "stream",
     "text": [
      "blas_info:\n",
      "  FOUND:\n",
      "    libraries = ['blas']\n",
      "    library_dirs = ['/usr/lib64']\n",
      "    language = f77\n",
      "\n"
     ]
    }
   ],
   "source": [
    "%f2py_help --link blas"
   ]
  },
  {
   "cell_type": "code",
   "execution_count": null,
   "metadata": {
    "collapsed": true
   },
   "outputs": [],
   "source": []
  }
 ],
 "metadata": {
  "kernelspec": {
   "display_name": "Python 3",
   "language": "python",
   "name": "python3"
  },
  "language_info": {
   "codemirror_mode": {
    "name": "ipython",
    "version": 3
   },
   "file_extension": ".py",
   "mimetype": "text/x-python",
   "name": "python",
   "nbconvert_exporter": "python",
   "pygments_lexer": "ipython3",
   "version": "3.4.1"
  }
 },
 "nbformat": 4,
 "nbformat_minor": 0
}
