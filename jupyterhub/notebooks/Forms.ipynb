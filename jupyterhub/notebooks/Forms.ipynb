{
 "cells": [
  {
   "cell_type": "markdown",
   "metadata": {},
   "source": [
    "# Working with Forms in Jupyter\n",
    "\n",
    "##Inspired by:\n",
    "###https://jakevdp.github.io/blog/2013/06/01/ipython-notebook-javascript-python-communication/\n",
    "\n",
    "##Code modernized by reviewing slider code:<br/>\n",
    "###http://nbviewer.ipython.org/github/jakevdp/mpld3/blob/gh-pages/notebooks/sliderPlugin.ipynb"
   ]
  },
  {
   "cell_type": "markdown",
   "metadata": {},
   "source": [
    "#Changes\n",
    ">Call to execute has not changed, but the information needed by the callback argument and information passed to the callback function has changed.  Additional information on messaging in iPython/Jupyter can be found [here](https://ipython.org/ipython-doc/stable/development/messaging.html).\n",
    "\n",
    "    // 2.x:\n",
    "    // Message was passed back in two arguments:\n",
    "    //   out_type: type of output {stream, pyout, pyerr}\n",
    "    //   out: returned output with additional metadata\n",
    "    //      out_type='stream'  out.data was a stream of output\n",
    "    //      out_type='pyout'   out.data[\"text/plain\"] is the returned output\n",
    "    //      out_type='pyerr'   out.ename/out.evalue contained error type and message\n",
    "    function handle_output(out_type, out) {//handler code}\n",
    "    var callbacks = {'output' : handle_output};\n",
    "    \n",
    "    // 3.x:\n",
    "    // Everything is returned in one argument\n",
    "    //   out.msg_type replaces out_type\n",
    "    //     'error' replaces 'pyerr'\n",
    "    //     'execute_result' replaces 'pyout'\n",
    "    //     'stream' is 'stream'\n",
    "    //   out.content now contains returned messages/output\n",
    "    //     msg_type = 'error'\n",
    "    //       out.content.ename = error name\n",
    "    //       out.content.evalue = error value\n",
    "    //       out.content.traceback = python traceback\n",
    "    //     msg_type = 'execute_result'\n",
    "    //       out.content.data['text/plain'] = returned output\n",
    "    //     msg_type = 'stream' \n",
    "    //       if out.content.name = 'stdout' output is in out.content.text\n",
    "    function handle_output(out) {//handler code}\n",
    "    var callbacks = { 'iopub' : {'output' : handle_output}};\n",
    "    \n",
    "#Types\n",
    "* 'execute_result' : A python object has been returned\n",
    "* 'stream' : Output from a print statement\n",
    "* 'error' : An error of some sort has occurred\n"
   ]
  },
  {
   "cell_type": "code",
   "execution_count": 1,
   "metadata": {
    "collapsed": false
   },
   "outputs": [
    {
     "data": {
      "text/html": [
       "\n",
       "<div style=\"background-color:gainsboro; border:solid black; width:300px; padding:20px;\">\n",
       "Variable Name: <input type=\"text\" id=\"var_name\" value=\"foo\"><br>\n",
       "Variable Value: <input type=\"text\" id=\"var_value\" value=\"bar\"><br>\n",
       "<button onclick=\"set_value()\">Set Value</button>\n",
       "</div>\n",
       "\n",
       "<script type=\"text/Javascript\">\n",
       "    function set_value(){\n",
       "        var var_name = document.getElementById('var_name').value;\n",
       "        var var_value = document.getElementById('var_value').value;\n",
       "        var command = var_name + \" = '\" + var_value + \"'\";\n",
       "        console.log(\"Executing Command: \" + command);\n",
       "        \n",
       "        var kernel = IPython.notebook.kernel;\n",
       "        kernel.execute(command);\n",
       "    }\n",
       "</script>\n"
      ],
      "text/plain": [
       "<IPython.core.display.HTML object>"
      ]
     },
     "execution_count": 1,
     "metadata": {},
     "output_type": "execute_result"
    }
   ],
   "source": [
    "from IPython.display import HTML\n",
    "\n",
    "input_form = \"\"\"\n",
    "<div style=\"background-color:gainsboro; border:solid black; width:300px; padding:20px;\">\n",
    "Variable Name: <input type=\"text\" id=\"var_name\" value=\"foo\"><br>\n",
    "Variable Value: <input type=\"text\" id=\"var_value\" value=\"bar\"><br>\n",
    "<button onclick=\"set_value()\">Set Value</button>\n",
    "</div>\n",
    "\"\"\"\n",
    "\n",
    "javascript = \"\"\"\n",
    "<script type=\"text/Javascript\">\n",
    "    function set_value(){\n",
    "        var var_name = document.getElementById('var_name').value;\n",
    "        var var_value = document.getElementById('var_value').value;\n",
    "        var command = var_name + \" = '\" + var_value + \"'\";\n",
    "        console.log(\"Executing Command: \" + command);\n",
    "        \n",
    "        var kernel = IPython.notebook.kernel;\n",
    "        kernel.execute(command);\n",
    "    }\n",
    "</script>\n",
    "\"\"\"\n",
    "\n",
    "HTML(input_form + javascript)\n"
   ]
  },
  {
   "cell_type": "code",
   "execution_count": 2,
   "metadata": {
    "collapsed": true
   },
   "outputs": [],
   "source": [
    "from math import pi, sin"
   ]
  },
  {
   "cell_type": "code",
   "execution_count": 2,
   "metadata": {
    "collapsed": false
   },
   "outputs": [
    {
     "name": "stdout",
     "output_type": "stream",
     "text": [
      "5\n"
     ]
    }
   ],
   "source": [
    "# As a test put 'print(a)' into the Code: text box to test 'stream' return types\n",
    "a=5\n",
    "print(a)"
   ]
  },
  {
   "cell_type": "code",
   "execution_count": 3,
   "metadata": {
    "collapsed": false
   },
   "outputs": [
    {
     "data": {
      "text/html": [
       "\n",
       "<div style=\"background-color:gainsboro; border:solid black; width:600px; padding:20px;\">\n",
       "Code: <input type=\"text\" id=\"code_input\" size=\"50\" height=\"2\" value=\"sin(pi / 2)\"><br>\n",
       "Result: <input type=\"text\" id=\"result_output\" size=\"50\" value=\"1.0\"><br>\n",
       "<button onclick=\"exec_code()\">Execute</button>\n",
       "</div>\n",
       "\n",
       "<script type=\"text/Javascript\">\n",
       "    function handle_output(out){\n",
       "        console.log(out);\n",
       "        var res = null;\n",
       "        switch (out.msg_type) {\n",
       "            case 'stream':\n",
       "                if (out.content.name == \"stdout\") {\n",
       "                    res = out.content.text;\n",
       "                }\n",
       "                break;\n",
       "            case 'execute_result':\n",
       "                res = out.content.data[\"text/plain\"];\n",
       "                break;\n",
       "            case 'error':\n",
       "                res = out.content.ename + \": \" + out.content.evalue;\n",
       "                break;\n",
       "            default:\n",
       "                res = '[Return type undefined: ' + out.msg_type + ' ]';\n",
       "        }\n",
       "        document.getElementById(\"result_output\").value = res;\n",
       "    }\n",
       "    \n",
       "    function exec_code(){\n",
       "        var code_input = document.getElementById('code_input').value;\n",
       "        var kernel = IPython.notebook.kernel;\n",
       "        var callbacks = { 'iopub' : {'output' : handle_output}};\n",
       "        document.getElementById(\"result_output\").value = \"\";  // clear output box\n",
       "        var msg_id = kernel.execute(code_input, callbacks, {silent:false});\n",
       "        console.log(\"button pressed\");\n",
       "    }\n",
       "</script>\n"
      ],
      "text/plain": [
       "<IPython.core.display.HTML object>"
      ]
     },
     "execution_count": 3,
     "metadata": {},
     "output_type": "execute_result"
    }
   ],
   "source": [
    "# Add an input form similar to what we saw above\n",
    "from IPython.display import HTML\n",
    "\n",
    "input_form = \"\"\"\n",
    "<div style=\"background-color:gainsboro; border:solid black; width:600px; padding:20px;\">\n",
    "Code: <input type=\"text\" id=\"code_input\" size=\"50\" height=\"2\" value=\"sin(pi / 2)\"><br>\n",
    "Result: <input type=\"text\" id=\"result_output\" size=\"50\" value=\"1.0\"><br>\n",
    "<button onclick=\"exec_code()\">Execute</button>\n",
    "</div>\n",
    "\"\"\"\n",
    "\n",
    "# here the javascript has a function to execute the code\n",
    "# within the input box, and a callback to handle the output.\n",
    "javascript = \"\"\"\n",
    "<script type=\"text/Javascript\">\n",
    "    function handle_output(out){\n",
    "        console.log(out);\n",
    "        var res = null;\n",
    "        switch (out.msg_type) {\n",
    "            case 'stream':\n",
    "                if (out.content.name == \"stdout\") {\n",
    "                    res = out.content.text;\n",
    "                }\n",
    "                break;\n",
    "            case 'execute_result':\n",
    "                res = out.content.data[\"text/plain\"];\n",
    "                break;\n",
    "            case 'error':\n",
    "                res = out.content.ename + \": \" + out.content.evalue;\n",
    "                break;\n",
    "            default:\n",
    "                res = '[Return type undefined: ' + out.msg_type + ' ]';\n",
    "        }\n",
    "        document.getElementById(\"result_output\").value = res;\n",
    "    }\n",
    "    \n",
    "    function exec_code(){\n",
    "        var code_input = document.getElementById('code_input').value;\n",
    "        var kernel = IPython.notebook.kernel;\n",
    "        var callbacks = { 'iopub' : {'output' : handle_output}};\n",
    "        document.getElementById(\"result_output\").value = \"\";  // clear output box\n",
    "        var msg_id = kernel.execute(code_input, callbacks, {silent:false});\n",
    "        console.log(\"Execute pressed\");\n",
    "    }\n",
    "</script>\n",
    "\"\"\"\n",
    "\n",
    "HTML(input_form + javascript)"
   ]
  },
  {
   "cell_type": "code",
   "execution_count": null,
   "metadata": {
    "collapsed": true
   },
   "outputs": [],
   "source": []
  }
 ],
 "metadata": {
  "celltoolbar": "Raw Cell Format",
  "kernelspec": {
   "display_name": "Python 3",
   "language": "python",
   "name": "python3"
  },
  "language_info": {
   "codemirror_mode": {
    "name": "ipython",
    "version": 3
   },
   "file_extension": ".py",
   "mimetype": "text/x-python",
   "name": "python",
   "nbconvert_exporter": "python",
   "pygments_lexer": "ipython3",
   "version": "3.4.1"
  }
 },
 "nbformat": 4,
 "nbformat_minor": 0
}
